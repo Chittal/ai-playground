{
 "cells": [
  {
   "cell_type": "markdown",
   "id": "97a17414",
   "metadata": {},
   "source": [
    "Type Annotations"
   ]
  },
  {
   "cell_type": "code",
   "execution_count": 1,
   "id": "8874bafb",
   "metadata": {},
   "outputs": [],
   "source": [
    "# Dictionary do not have type safety, so name can be a string or an int\n",
    "person = {\"name\": \"John\", \"age\": 30}"
   ]
  },
  {
   "cell_type": "code",
   "execution_count": 2,
   "id": "b8ab5ba2",
   "metadata": {},
   "outputs": [
    {
     "name": "stdout",
     "output_type": "stream",
     "text": [
      "{'name': 'John', 'age': 30, 'monthly_salary': 10000, 'is_active': True, 'extra': 'test', 'annual_salary': 120000}\n"
     ]
    }
   ],
   "source": [
    "# TypedDict can be used to create a type-safe dictionary( we can specify the type of the keys and values)\n",
    "from typing import TypedDict, Union, Optional, Any, Annotated\n",
    "\n",
    "class Person(TypedDict):\n",
    "    name: str\n",
    "    age: int\n",
    "    monthly_salary: Union[int, float] # Union says it can either int or float\n",
    "    is_active: Optional[bool] # Optional says it can be either bool or None\n",
    "    extra: Any # Any says it can be any type\n",
    "    annual_salary: Annotated[int, \"This is calculated with the monthly salary\"] # Annotated is used to add metadata to the type\n",
    "\n",
    "\n",
    "person: Person = {\"name\": \"John\", \"age\": 30, \"monthly_salary\": 10000, \"is_active\": True, \"extra\": \"test\", \"annual_salary\": 0}\n",
    "\n",
    "# Lambda function to calculate the annual salary\n",
    "calculate_annual_salary = lambda monthly: monthly * 12\n",
    "\n",
    "person[\"annual_salary\"] = calculate_annual_salary(person[\"monthly_salary\"])\n",
    "print(person)"
   ]
  },
  {
   "cell_type": "markdown",
   "id": "0e6698c5",
   "metadata": {},
   "source": [
    "State\n",
    "- State is the current context or state the workflow is currently in. \n",
    "- It is like application memory.\n",
    "- eg., whiteboard is the state(to stay connected and updated) and participants are node(thta read information from state to stay updated)"
   ]
  },
  {
   "cell_type": "markdown",
   "id": "219cf494",
   "metadata": {},
   "source": [
    "Node\n",
    "- Individual function or operations that perform specific task within graph.\n",
    "- It receives current state and process it and update the state.\n",
    "- eg, In a factory, each station do one task like organizing, attaching a part, etc. The station is a node. "
   ]
  },
  {
   "cell_type": "markdown",
   "id": "f8794573",
   "metadata": {},
   "source": [
    "Graph\n",
    "- Represents roadmap or workflow"
   ]
  },
  {
   "cell_type": "markdown",
   "id": "de169439",
   "metadata": {},
   "source": [
    "Edges\n",
    "- Connection between nodes\n",
    "- Flow of execution\n",
    "- Train track connecting 2 stations(Edge-track, Train-state, Station-nodes)"
   ]
  },
  {
   "cell_type": "markdown",
   "id": "b9f88453",
   "metadata": {},
   "source": [
    "Conditional Edges\n",
    "- Decision node decides which is the next step based on condition\n",
    "- Like traffic light(Green go, Red stop)"
   ]
  },
  {
   "cell_type": "markdown",
   "id": "357c7821",
   "metadata": {},
   "source": [
    "START - start node\n",
    "END - end node"
   ]
  },
  {
   "cell_type": "markdown",
   "id": "8f9b5bbc",
   "metadata": {},
   "source": [
    "Tools\n",
    "- functionalities used within node, specialized function\n",
    "- nodes can use it to perform a task\n",
    "- toolbox - (hammer or screw driver)"
   ]
  },
  {
   "cell_type": "markdown",
   "id": "1cc8b6ff",
   "metadata": {},
   "source": [
    "ToolNode\n",
    "- Special kind of node whose task is to run a tool\n",
    "- Connect tool output back to state so others can use"
   ]
  },
  {
   "cell_type": "markdown",
   "id": "94f37352",
   "metadata": {},
   "source": [
    "StateGraph\n",
    "- Build and compile a workflow(Graph)\n",
    "- manages nodes, edges and state\n",
    "- eg., blueprint of a building"
   ]
  },
  {
   "cell_type": "markdown",
   "id": "6da8853c",
   "metadata": {},
   "source": [
    "Runnable\n",
    "- building block to create modular system\n",
    "- executable component to perform specific task in workflow\n",
    "- Runnable represents various operations, but node depends on state\n",
    "-eg, Lego bricks, connected to build complicated AI workflows."
   ]
  },
  {
   "cell_type": "markdown",
   "id": "b619884a",
   "metadata": {},
   "source": [
    "Messages\n",
    "- Human Message - user input\n",
    "- System Message - instruction to model\n",
    "- AI Message - response from AI model\n",
    "- Function Message - result of function call\n",
    "- Tool Message - result of tool call"
   ]
  },
  {
   "cell_type": "markdown",
   "id": "2df8b00f",
   "metadata": {},
   "source": [
    "DocString\n",
    "- It says the LangGraph what that function does.\n",
    "- It is represented in triple quotes."
   ]
  },
  {
   "cell_type": "code",
   "execution_count": 7,
   "id": "86ef6eac",
   "metadata": {},
   "outputs": [],
   "source": [
    "from typing import TypedDict\n",
    "from langgraph.graph import StateGraph, START, END"
   ]
  },
  {
   "cell_type": "code",
   "execution_count": 15,
   "id": "12d3777f",
   "metadata": {},
   "outputs": [],
   "source": [
    "# state schema\n",
    "class AgentState(TypedDict):\n",
    "    message: str\n",
    "\n",
    "def greeting_node(state: AgentState) -> AgentState:\n",
    "    \"\"\"\n",
    "    This function is a node that greets the user\n",
    "    \"\"\"\n",
    "    state[\"message\"] = \"Hello \"+ state[\"message\"] + \", how are you?\"\n",
    "    return state\n"
   ]
  },
  {
   "cell_type": "code",
   "execution_count": 16,
   "id": "63c190b4",
   "metadata": {},
   "outputs": [],
   "source": [
    "graph = StateGraph(AgentState) # create a graph with state schema\n",
    "\n",
    "graph.add_node(\"Greet\", greeting_node) # add a node with name \"Greet\" and function \"greeting_node\"\n",
    "\n",
    "# graph.set_entry_point(\"Greet\") # set the entry point to greet\n",
    "# graph.set_finish_point(\"Greet\") # set the finish point to end\n",
    "\n",
    "# you can also add edges instead of setting entry and finish point\n",
    "graph.add_edge(START, \"Greet\") # add an edge from start to greet\n",
    "graph.add_edge(\"Greet\", END) # add an edge from greet to end\n",
    "graph = graph.compile()"
   ]
  },
  {
   "cell_type": "code",
   "execution_count": 17,
   "id": "93e04ce8",
   "metadata": {},
   "outputs": [
    {
     "data": {
      "image/png": "[encoded data removed]",
      "text/plain": [
       "<IPython.core.display.Image object>"
      ]
     },
     "metadata": {},
     "output_type": "display_data"
    }
   ],
   "source": [
    "from IPython.display import Image, display\n",
    "display(Image(graph.get_graph().draw_mermaid_png()))"
   ]
  },
  {
   "cell_type": "code",
   "execution_count": 18,
   "id": "12232dc8",
   "metadata": {},
   "outputs": [
    {
     "data": {
      "text/plain": [
       "'Hello Bob, how are you?'"
      ]
     },
     "execution_count": 18,
     "metadata": {},
     "output_type": "execute_result"
    }
   ],
   "source": [
    "result = graph.invoke({\"message\": \"Bob\"})\n",
    "result['message']"
   ]
  },
  {
   "cell_type": "code",
   "execution_count": 19,
   "id": "43aa675a",
   "metadata": {},
   "outputs": [],
   "source": [
    "def compliment_node(state: AgentState) -> AgentState:\n",
    "    \"\"\" This node is to compliment user \"\"\"\n",
    "    state['message'] = state['message'] + \", you are doing great job!\"\n",
    "    return state"
   ]
  },
  {
   "cell_type": "code",
   "execution_count": 20,
   "id": "09780b25",
   "metadata": {},
   "outputs": [],
   "source": [
    "graph = StateGraph(AgentState)\n",
    "graph.add_node(\"compliment\", compliment_node)\n",
    "graph.set_entry_point(\"compliment\")\n",
    "graph.set_finish_point(\"compliment\")\n",
    "graph = graph.compile()"
   ]
  },
  {
   "cell_type": "code",
   "execution_count": 22,
   "id": "7bc2148a",
   "metadata": {},
   "outputs": [
    {
     "data": {
      "text/plain": [
       "'Bob, you are doing great job!'"
      ]
     },
     "execution_count": 22,
     "metadata": {},
     "output_type": "execute_result"
    }
   ],
   "source": [
    "result = graph.invoke({\"message\": \"Bob\"})\n",
    "result['message']"
   ]
  }
 ],
 "metadata": {
  "kernelspec": {
   "display_name": "venv",
   "language": "python",
   "name": "python3"
  },
  "language_info": {
   "codemirror_mode": {
    "name": "ipython",
    "version": 3
   },
   "file_extension": ".py",
   "mimetype": "text/x-python",
   "name": "python",
   "nbconvert_exporter": "python",
   "pygments_lexer": "ipython3",
   "version": "3.11.9"
  }
 },
 "nbformat": 4,
 "nbformat_minor": 5
}
